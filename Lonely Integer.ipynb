{
 "cells": [
  {
   "cell_type": "markdown",
   "metadata": {},
   "source": [
    "# Lonely Integer"
   ]
  },
  {
   "cell_type": "markdown",
   "metadata": {},
   "source": [
    "https://www.hackerrank.com/challenges/lonely-integer/problem"
   ]
  },
  {
   "cell_type": "markdown",
   "metadata": {},
   "source": [
    "## 解説"
   ]
  },
  {
   "cell_type": "markdown",
   "metadata": {},
   "source": [
    "### 排他的論理和\n",
    "２つの値が一致しなければ「1」を返して、一致すれば「0」を返す  \n",
    "演算子『^』  \n",
    "ビットごとの排他的論理和を与える  \n",
    "2進数の足し算と同じ結果\n",
    "\n",
    "12    ^  10   =  6      （１０進数）  \n",
    "1100 ^ 1010 = 0110  （２進数）  \n",
    "\n",
    "1100  \n",
    "1010  \n",
    "↓↓↓↓  \n",
    "0110  "
   ]
  },
  {
   "cell_type": "markdown",
   "metadata": {},
   "source": [
    "## Code"
   ]
  },
  {
   "cell_type": "code",
   "execution_count": 1,
   "metadata": {
    "scrolled": true
   },
   "outputs": [],
   "source": [
    "import sys\n",
    "\n",
    "def lonelyinteger(arr):\n",
    "    output = 0\n",
    "    for x in arr:\n",
    "        output ^= x\n",
    "    return output"
   ]
  },
  {
   "cell_type": "code",
   "execution_count": 2,
   "metadata": {},
   "outputs": [
    {
     "data": {
      "text/plain": [
       "3"
      ]
     },
     "execution_count": 2,
     "metadata": {},
     "output_type": "execute_result"
    }
   ],
   "source": [
    "x = [1,2,3,2,1]\n",
    "result = lonelyinteger(x)\n",
    "result"
   ]
  },
  {
   "cell_type": "code",
   "execution_count": 3,
   "metadata": {},
   "outputs": [
    {
     "name": "stdout",
     "output_type": "stream",
     "text": [
      "0 ^ 1\n",
      "1\n",
      "1 ^ 2\n",
      "3\n",
      "3 ^ 3\n",
      "0\n",
      "0 ^ 2\n",
      "2\n",
      "2 ^ 1\n",
      "3\n"
     ]
    }
   ],
   "source": [
    "arr =  [1,2,3,2,1]\n",
    "output = 0\n",
    "for x in arr:\n",
    "    print(output, '^', x)\n",
    "    output ^= x\n",
    "    print(output)"
   ]
  }
 ],
 "metadata": {
  "kernelspec": {
   "display_name": "Python 3",
   "language": "python",
   "name": "python3"
  },
  "language_info": {
   "codemirror_mode": {
    "name": "ipython",
    "version": 3
   },
   "file_extension": ".py",
   "mimetype": "text/x-python",
   "name": "python",
   "nbconvert_exporter": "python",
   "pygments_lexer": "ipython3",
   "version": "3.6.4"
  }
 },
 "nbformat": 4,
 "nbformat_minor": 2
}
