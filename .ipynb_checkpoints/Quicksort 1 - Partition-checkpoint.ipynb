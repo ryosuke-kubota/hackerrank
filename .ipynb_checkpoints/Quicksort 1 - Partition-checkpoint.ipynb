{
 "cells": [
  {
   "cell_type": "markdown",
   "metadata": {},
   "source": [
    "# Quicksort 1 - Partition"
   ]
  },
  {
   "cell_type": "markdown",
   "metadata": {},
   "source": [
    "https://www.hackerrank.com/challenges/quicksort1/problem"
   ]
  },
  {
   "cell_type": "markdown",
   "metadata": {},
   "source": [
    "## 解説"
   ]
  },
  {
   "cell_type": "markdown",
   "metadata": {},
   "source": [
    "1. 配列からランダムな数(ピボット)を1つ選択\n",
    "2. 選択した数を軸に大きいグループと小さいグループに分ける\n",
    "3. 分けたグループに対して(1)(2)を繰り返す\n",
    "4. そーと完了"
   ]
  },
  {
   "cell_type": "markdown",
   "metadata": {},
   "source": [
    "## Code"
   ]
  },
  {
   "cell_type": "code",
   "execution_count": 27,
   "metadata": {},
   "outputs": [],
   "source": [
    "import sys\n",
    "\n",
    "def quickSort(arr):\n",
    "    if len(arr) < 1:\n",
    "        return arr\n",
    "    p = arr[0] #1番目の数をピボットに設定\n",
    "    left = [] #小さいグループ\n",
    "    right = [] #大きいグループ\n",
    "    for x in range(1, len(arr)):\n",
    "        if arr[x] <= p:\n",
    "            left.append(arr[x])#ピボットより小さかったらleftに追加\n",
    "        else:\n",
    "            right.append(arr[x])#ピボットよりおおきかったらrightに追加\n",
    "\n",
    "    left = quickSort(left) #小さいグループに対して同じ処理を行う\n",
    "    right = quickSort(right) #大きいグループに対して同じ処理を行う\n",
    "    pivot = [p] #ピボットを配列化\n",
    "    return left + pivot + right #ピボットを中心にして配列を繋げる"
   ]
  },
  {
   "cell_type": "code",
   "execution_count": 23,
   "metadata": {
    "scrolled": false
   },
   "outputs": [
    {
     "data": {
      "text/plain": [
       "[1, 2, 3, 7, 8, 9]"
      ]
     },
     "execution_count": 23,
     "metadata": {},
     "output_type": "execute_result"
    }
   ],
   "source": [
    "x = [3,7,2,9,8,1]\n",
    "result = quickSort(x)\n",
    "result"
   ]
  },
  {
   "cell_type": "code",
   "execution_count": null,
   "metadata": {},
   "outputs": [],
   "source": []
  }
 ],
 "metadata": {
  "kernelspec": {
   "display_name": "Python 3",
   "language": "python",
   "name": "python3"
  },
  "language_info": {
   "codemirror_mode": {
    "name": "ipython",
    "version": 3
   },
   "file_extension": ".py",
   "mimetype": "text/x-python",
   "name": "python",
   "nbconvert_exporter": "python",
   "pygments_lexer": "ipython3",
   "version": "3.6.4"
  },
  "tdd": {
   "colors": {},
   "moveMenuRight": true,
   "navigate_menu": true,
   "number_sections": false,
   "sideBar": true,
   "tdd_cell": false,
   "tdd_section_display": "block",
   "tdd_window_display": true,
   "threshold": 4
  }
 },
 "nbformat": 4,
 "nbformat_minor": 2
}
